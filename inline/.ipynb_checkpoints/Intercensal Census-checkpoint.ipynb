{
 "cells": [
  {
   "cell_type": "code",
   "execution_count": 1,
   "metadata": {},
   "outputs": [],
   "source": [
    "import pandas as pd"
   ]
  },
  {
   "cell_type": "code",
   "execution_count": 2,
   "metadata": {},
   "outputs": [],
   "source": [
    "df = pd.ExcelFile(\"https://docs.google.com/spreadsheets/d/e/2PACX-1vR08Js9Sh4nNTMe5uBcsDUFedG5MOjIf90p6EHAr1_sWY5kpnI3xUvyPHzQpTEUrXz1pskaoc0uyea6/pub?output=xlsx\")"
   ]
  },
  {
   "cell_type": "code",
   "execution_count": 3,
   "metadata": {},
   "outputs": [
    {
     "data": {
      "text/plain": [
       "['sexo',\n",
       " 'sersalud',\n",
       " 'pisos',\n",
       " 'techos',\n",
       " 'paredes',\n",
       " 'coverage',\n",
       " 'estcon',\n",
       " 'parent',\n",
       " 'ident_madre',\n",
       " 'ident_padre',\n",
       " 'dhsersal1',\n",
       " 'nacionalidad',\n",
       " 'nivacad',\n",
       " 'conact',\n",
       " 'tamloc',\n",
       " 'income',\n",
       " 'debt',\n",
       " 'acquisition']"
      ]
     },
     "execution_count": 3,
     "metadata": {},
     "output_type": "execute_result"
    }
   ],
   "source": [
    "df.sheet_names"
   ]
  },
  {
   "cell_type": "code",
   "execution_count": null,
   "metadata": {},
   "outputs": [],
   "source": []
  },
  {
   "cell_type": "code",
   "execution_count": null,
   "metadata": {},
   "outputs": [],
   "source": [
    "def inline_table(df, cube_name):\n",
    "    print('<InlineTable alias=\"dim_inline_{}\">'.format(cube_name))\n",
    "\n",
    "    for item in df.itertuples():\n",
    "        print('\\t<Row>')\n",
    "        print('\\t\\t<Value column=\"id\">{}</Value>'.format(item.id))\n",
    "        print('\\t\\t<Value column=\"name_en\">{}</Value>'.format(item.name_en))\n",
    "        print('\\t\\t<Value column=\"name_es\">{}</Value>'.format(item.name_es))\n",
    "        print('\\t</Row>')\n",
    "\n",
    "    print('</InlineTable>')"
   ]
  },
  {
   "cell_type": "code",
   "execution_count": null,
   "metadata": {},
   "outputs": [],
   "source": [
    "inline_table(pd.read_excel(df, \"sexo\"), \"sex\")"
   ]
  },
  {
   "cell_type": "code",
   "execution_count": null,
   "metadata": {},
   "outputs": [],
   "source": []
  }
 ],
 "metadata": {
  "kernelspec": {
   "display_name": "Python 3",
   "language": "python",
   "name": "python3"
  },
  "language_info": {
   "codemirror_mode": {
    "name": "ipython",
    "version": 3
   },
   "file_extension": ".py",
   "mimetype": "text/x-python",
   "name": "python",
   "nbconvert_exporter": "python",
   "pygments_lexer": "ipython3",
   "version": "3.7.1"
  }
 },
 "nbformat": 4,
 "nbformat_minor": 2
}
