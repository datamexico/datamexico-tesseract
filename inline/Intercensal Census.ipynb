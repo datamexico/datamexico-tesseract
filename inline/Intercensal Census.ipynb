{
 "cells": [
  {
   "cell_type": "code",
   "execution_count": 1,
   "metadata": {},
   "outputs": [],
   "source": [
    "import pandas as pd"
   ]
  },
  {
   "cell_type": "code",
   "execution_count": 2,
   "metadata": {},
   "outputs": [],
   "source": [
    "df = pd.ExcelFile(\"https://docs.google.com/spreadsheets/d/e/2PACX-1vR08Js9Sh4nNTMe5uBcsDUFedG5MOjIf90p6EHAr1_sWY5kpnI3xUvyPHzQpTEUrXz1pskaoc0uyea6/pub?output=xlsx\")"
   ]
  },
  {
   "cell_type": "code",
   "execution_count": 3,
   "metadata": {},
   "outputs": [],
   "source": []
  },
  {
   "cell_type": "code",
   "execution_count": 19,
   "metadata": {},
   "outputs": [],
   "source": [
    "def inline_table(df, cube_name):\n",
    "    print('<InlineTable alias=\"dim_inline_{}\">'.format(cube_name))\n",
    "\n",
    "    for item in df.itertuples():\n",
    "        print('\\t<Row>')\n",
    "        print('\\t\\t<Value column=\"id\">{}</Value>'.format(item.id))\n",
    "        print('\\t\\t<Value column=\"name_en\">{}</Value>'.format(item.name_en))\n",
    "        print('\\t\\t<Value column=\"name_es\">{}</Value>'.format(item.name_es))\n",
    "        print('\\t</Row>')\n",
    "\n",
    "    print('</InlineTable')"
   ]
  },
  {
   "cell_type": "code",
   "execution_count": 20,
   "metadata": {},
   "outputs": [
    {
     "name": "stdout",
     "output_type": "stream",
     "text": [
      "<InlineTable alias=\"dim_inline_sex\">\n",
      "\t<Row>\n",
      "\t\t<Value column=\"id\">1</Value>\n",
      "\t\t<Value column=\"name_en\">Male</Value>\n",
      "\t\t<Value column=\"name_es\">Hombre</Value>\n",
      "\t</Row>\n",
      "\t<Row>\n",
      "\t\t<Value column=\"id\">2</Value>\n",
      "\t\t<Value column=\"name_en\">Female</Value>\n",
      "\t\t<Value column=\"name_es\">Mujer</Value>\n",
      "\t</Row>\n",
      "</InlineTable\n"
     ]
    }
   ],
   "source": [
    "inline_table(pd.read_excel(df, \"sexo\"), \"sex\")"
   ]
  }
 ],
 "metadata": {
  "kernelspec": {
   "display_name": "Python 3",
   "language": "python",
   "name": "python3"
  },
  "language_info": {
   "codemirror_mode": {
    "name": "ipython",
    "version": 3
   },
   "file_extension": ".py",
   "mimetype": "text/x-python",
   "name": "python",
   "nbconvert_exporter": "python",
   "pygments_lexer": "ipython3",
   "version": "3.7.1"
  }
 },
 "nbformat": 4,
 "nbformat_minor": 2
}
