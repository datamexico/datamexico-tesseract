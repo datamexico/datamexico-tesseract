{
 "cells": [
  {
   "cell_type": "code",
   "execution_count": null,
   "metadata": {},
   "outputs": [],
   "source": [
    "\"\"\"\n",
    "table_name: clickhouse table name\n",
    "date_dimension: {\n",
    "    'date_id': 20150101,\n",
    "    'month_id': 201501,\n",
    "    'quarter_id': 20151,\n",
    "    'year': 2015\n",
    "}\n",
    "\"\"\""
   ]
  },
  {
   "cell_type": "code",
   "execution_count": null,
   "metadata": {},
   "outputs": [],
   "source": [
    "import pandas as pd\n",
    "from bamboo_lib.connectors.models import Connector\n",
    "from bamboo_lib.helpers import grab_connector\n",
    "from helpers import data_from_table, inline_table, create_dimension"
   ]
  },
  {
   "cell_type": "code",
   "execution_count": null,
   "metadata": {},
   "outputs": [],
   "source": [
    "db_connector = grab_connector(\"conns.yaml\", \"clickhouse-database\")"
   ]
  },
  {
   "cell_type": "markdown",
   "metadata": {},
   "source": [
    "### Functions"
   ]
  },
  {
   "cell_type": "code",
   "execution_count": null,
   "metadata": {},
   "outputs": [],
   "source": [
    "table_name = 'table_name'"
   ]
  },
  {
   "cell_type": "code",
   "execution_count": null,
   "metadata": {
    "scrolled": true
   },
   "outputs": [],
   "source": [
    "data = data_from_table(db_connector, table_name, 'date_dimension')"
   ]
  },
  {
   "cell_type": "code",
   "execution_count": null,
   "metadata": {},
   "outputs": [],
   "source": [
    "df = create_dimension(data)"
   ]
  },
  {
   "cell_type": "code",
   "execution_count": null,
   "metadata": {
    "scrolled": true
   },
   "outputs": [],
   "source": [
    "inline_table(df, table_name, data)"
   ]
  },
  {
   "cell_type": "markdown",
   "metadata": {},
   "source": [
    "  <SharedDimension name=\"Year\" type=\"time\">\n",
    "    <Hierarchy name=\"Year\">\n",
    "      <Level name=\"Year\" key_column=\"year\" />\n",
    "    </Hierarchy>\n",
    "  </SharedDimension>\n",
    "\n",
    "  <SharedDimension name=\"Date Quarter\" type=\"time\">\n",
    "    <Hierarchy name=\"Date\" primary_key=\"quarter_id\">\n",
    "      <Table name=\"dim_shared_date_quarter\" />\n",
    "      <Level name=\"Year\" key_column=\"year\" />\n",
    "      <Level name=\"Quarter\" key_column=\"quarter_id\" name_column=\"quarter_name\">\n",
    "        <Property name=\"Quarter ES\" column=\"quarter_name\" caption_set=\"es\" />\n",
    "      </Level>\n",
    "    </Hierarchy>\n",
    "  </SharedDimension>\n",
    "\n",
    "  <SharedDimension name=\"Date Month\" type=\"time\">\n",
    "    <Hierarchy name=\"Date\" primary_key=\"month_id\">\n",
    "      <Table name=\"dim_shared_date_month\" />\n",
    "      <Level name=\"Year\" key_column=\"year\" />\n",
    "      <Level name=\"Quarter\" key_column=\"quarter_id\" name_column=\"quarter\">\n",
    "        <Property name=\"Quarter ES\" column=\"quarter\" caption_set=\"es\" />\n",
    "      </Level>\n",
    "      <Level name=\"Month\" key_column=\"month_id\" name_column=\"month\">\n",
    "        <Property name=\"Month ES\" column=\"month\" caption_set=\"es\" />\n",
    "      </Level>\n",
    "    </Hierarchy>\n",
    "  </SharedDimension>\n",
    "\n",
    "  <SharedDimension name=\"Date Day\" type=\"time\">\n",
    "    <Hierarchy name=\"Date\" primary_key=\"date_id\">\n",
    "      <Table name=\"dim_shared_date_month_day\" />\n",
    "      <Level name=\"Year\" key_column=\"year\" />\n",
    "      <Level name=\"Quarter\" key_column=\"quarter_id\" name_column=\"quarter\">\n",
    "        <Property name=\"Quarter ES\" column=\"quarter\" caption_set=\"es\" />\n",
    "      </Level>\n",
    "      <Level name=\"Month\" key_column=\"month_id\" name_column=\"month\">\n",
    "        <Property name=\"Month ES\" column=\"month\" caption_set=\"es\" />\n",
    "      </Level>\n",
    "      <Level name=\"Date\" key_column=\"date_id\" name_column=\"date\">\n",
    "        <Property name=\"Date ES\" column=\"date\" caption_set=\"es\" />\n",
    "      </Level>\n",
    "    </Hierarchy>\n",
    "  </SharedDimension>"
   ]
  }
 ],
 "metadata": {
  "kernelspec": {
   "display_name": "Python 3",
   "language": "python",
   "name": "python3"
  },
  "language_info": {
   "codemirror_mode": {
    "name": "ipython",
    "version": 3
   },
   "file_extension": ".py",
   "mimetype": "text/x-python",
   "name": "python",
   "nbconvert_exporter": "python",
   "pygments_lexer": "ipython3",
   "version": "3.7.3"
  }
 },
 "nbformat": 4,
 "nbformat_minor": 2
}
